{
 "cells": [
  {
   "cell_type": "code",
   "execution_count": 57,
   "metadata": {
    "collapsed": true
   },
   "outputs": [],
   "source": [
    "%%capture\n",
    "%run \"14 - Simple Linear Regression.ipynb\""
   ]
  },
  {
   "cell_type": "markdown",
   "metadata": {},
   "source": [
    "# The Model\n"
   ]
  },
  {
   "cell_type": "markdown",
   "metadata": {},
   "source": [
    "Suppose we put forth a new hypothesis that makes use of more independent variables:\n",
    "$$minutes = \\alpha + \\beta_1 friends + \\beta_2 work\\ hours + \\beta_3 phd + \\epsilon$$\n",
    "\n",
    "In multiple regression, we can denote a vector or parameters as $\\beta$. Then we use vectors for `x` and `beta`:\n",
    "\n",
    "`beta = [alpha, beta_1, ..., beta_k]`\n",
    "\n",
    "`x_i = [1, x_i1, ..., x_ik]`\n",
    "\n",
    "`beta = [ 0.9,\n",
    "         0.7,\n",
    "         0.8,\n",
    "         0.6]`\n",
    "\n",
    "`x = [1, # constant term,\n",
    "     49, # number of friends\n",
    "     4, # work hours per day\n",
    "     0] # does not have a PhD`\n",
    "     \n",
    " In _Simple Linear Regression_, our model was:\n",
    " $$y_i = \\alpha + \\beta x_i + \\epsilon_i$$\n",
    " In a multiple regression we will use:\n",
    " $$y_i = \\alpha + \\beta_1 x_{i1} + ... + \\beta_k x_{ik} + \\epsilon_i$$"
   ]
  },
  {
   "cell_type": "code",
   "execution_count": 58,
   "metadata": {},
   "outputs": [],
   "source": [
    "def predict(x_i, beta):\n",
    "    return dot(x_i, beta)"
   ]
  },
  {
   "cell_type": "markdown",
   "metadata": {},
   "source": [
    "# Further Assumptions Of The Least Squares Model\n",
    "For our model to be reasonable, it requires a couple of assumptions:\n",
    "- Columns of `x` are _linearly independent_. If this is not true, it will be impossible to estimate `beta`.\n",
    "- Columns of `x` are all uncorrelated with the errors $\\epsilon$."
   ]
  },
  {
   "cell_type": "markdown",
   "metadata": {},
   "source": [
    "# Fitting The Model\n",
    "Here as well we choose `beta` in order to minimize the sum of squared errors. Gradient descent will be used to do this."
   ]
  },
  {
   "cell_type": "code",
   "execution_count": 59,
   "metadata": {
    "scrolled": true
   },
   "outputs": [
    {
     "data": {
      "text/plain": [
       "[0.8564580492426055,\n",
       " 1.347728091101083,\n",
       " 0.46871637170108277,\n",
       " 0.25891675029296335]"
      ]
     },
     "execution_count": 59,
     "metadata": {},
     "output_type": "execute_result"
    }
   ],
   "source": [
    "def error(x_i, y_i, beta):\n",
    "    return y_i - predict(x_i, beta)\n",
    "\n",
    "def squared_error(x_i, y_i, beta):\n",
    "    return error(x_i, y_i, beta)**2\n",
    "\n",
    "def squared_error_gradient(x_i, y_i, beta):\n",
    "    return [-2 * x_ij * error(x_i, y_i, beta) for x_ij in x_i]\n",
    "\n",
    "def estimate_beta(x, y):\n",
    "    beta_initial = [random.random() for x_i in x[0]]\n",
    "    return minimize_stochastic(squared_error, squared_error_gradient, x, y, beta_initial, 0.001)\n",
    "\n",
    "x = [1, # constant term,\n",
    "     49, # number of friends\n",
    "     4, # work hours per day\n",
    "     0] # does not have a PhD\n",
    "\n",
    "random.seed(0)\n",
    "beta = estimate_beta([x], daily_minutes_clean)\n",
    "beta"
   ]
  },
  {
   "cell_type": "markdown",
   "metadata": {},
   "source": [
    "Above does not match the book, could not get code to work as shown."
   ]
  },
  {
   "cell_type": "code",
   "execution_count": null,
   "metadata": {
    "collapsed": true
   },
   "outputs": [],
   "source": []
  }
 ],
 "metadata": {
  "kernelspec": {
   "display_name": "Python 3",
   "language": "python",
   "name": "python3"
  },
  "language_info": {
   "codemirror_mode": {
    "name": "ipython",
    "version": 3
   },
   "file_extension": ".py",
   "mimetype": "text/x-python",
   "name": "python",
   "nbconvert_exporter": "python",
   "pygments_lexer": "ipython3",
   "version": "3.5.2"
  }
 },
 "nbformat": 4,
 "nbformat_minor": 2
}
