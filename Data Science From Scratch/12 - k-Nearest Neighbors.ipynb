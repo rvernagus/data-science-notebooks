{
 "cells": [
  {
   "cell_type": "markdown",
   "metadata": {},
   "source": [
    "# The Model\n",
    "Nearest neighbors does not make any mathematical assumptions or require a lot of dependencies. It only requires a way to calculate distance and the assumption that proximate points are similar. One downside is that nearest neighbors does not take all of the information ino account--it only makes predictions based on a handful of points closest to the one of interest."
   ]
  },
  {
   "cell_type": "code",
   "execution_count": 74,
   "metadata": {},
   "outputs": [],
   "source": [
    "%%capture\n",
    "%run \"4 - Linear Algebra.ipynb\"\n",
    "\n",
    "from collections import Counter\n",
    "import matplotlib.pyplot as plt\n",
    "%matplotlib inline"
   ]
  },
  {
   "cell_type": "code",
   "execution_count": 75,
   "metadata": {},
   "outputs": [],
   "source": [
    "def majority_vote(labels):\n",
    "    \"\"\"assumes that labels are ordered from nearest to farthest\"\"\"\n",
    "    vote_counts = Counter(labels)\n",
    "    winner, winner_count = vote_counts.most_common(1)[0]\n",
    "    num_winners = len([count for count in vote_counts.values() if count == winner_count])\n",
    "    \n",
    "    if num_winners == 1:\n",
    "        return winner # unique winner, so return it\n",
    "    else:\n",
    "        return majority_vote(labels[:-1]) # try again without the farthest\n",
    "\n",
    "def knn_classify(k, labeled_points, new_point):\n",
    "    \"\"\"each labeled point should be a pair (point, label)\"\"\"\n",
    "    \n",
    "    def key_func(point):\n",
    "        p, _ = point\n",
    "        return distance(p, new_point)\n",
    "    \n",
    "    # order the labeled points from nearest to farthest\n",
    "    by_distance = sorted(labeled_points, key=key_func)\n",
    "    \n",
    "    # find the labels for the k closest\n",
    "    k_nearest_labels = [label for _, label in by_distance[:k]]\n",
    "    \n",
    "    # and let them vote\n",
    "    return majority_vote(k_nearest_labels)"
   ]
  },
  {
   "cell_type": "code",
   "execution_count": 128,
   "metadata": {},
   "outputs": [
    {
     "data": {
      "image/png": "[encoded data removed]",
      "text/plain": [
       "<matplotlib.figure.Figure at 0xb092e48>"
      ]
     },
     "metadata": {},
     "output_type": "display_data"
    }
   ],
   "source": [
    "from sklearn import datasets\n",
    "\n",
    "iris = datasets.load_iris()\n",
    "\n",
    "iris_0 = iris.data[iris.target == 0]\n",
    "iris_1 = iris.data[iris.target == 1]\n",
    "iris_2 = iris.data[iris.target == 2]\n",
    "\n",
    "plt.scatter(iris_0[:, 0], iris_0[:, 1], label='0');\n",
    "plt.scatter(iris_1[:, 0], iris_1[:, 1], label='1');\n",
    "plt.scatter(iris_2[:, 0], iris_2[:, 1], label='2');\n",
    "plt.legend();"
   ]
  },
  {
   "cell_type": "code",
   "execution_count": 129,
   "metadata": {},
   "outputs": [
    {
     "data": {
      "text/plain": [
       "2"
      ]
     },
     "execution_count": 129,
     "metadata": {},
     "output_type": "execute_result"
    }
   ],
   "source": [
    "# Classify a point that would lie at 6, 3\n",
    "knn_classify(1, zip(iris.data[:, :2], iris.target), [6, 3])"
   ]
  },
  {
   "cell_type": "code",
   "execution_count": 148,
   "metadata": {},
   "outputs": [
    {
     "name": "stdout",
     "output_type": "stream",
     "text": [
      "1 neighbor[s]: 114 correct out of 150\n",
      "3 neighbor[s]: 118 correct out of 150\n",
      "5 neighbor[s]: 119 correct out of 150\n",
      "7 neighbor[s]: 121 correct out of 150\n",
      "15 neighbor[s]: 122 correct out of 150\n"
     ]
    }
   ],
   "source": [
    "# try several different values for k\n",
    "for k in [1, 3, 5, 7, 15]:\n",
    "    num_correct = 0\n",
    "    num_total = 0\n",
    "        \n",
    "    for x in zip(iris.data[:, :2], iris.target):\n",
    "        num_total += 1\n",
    "        point, target = x\n",
    "        other_iris = [(p, t) for (p, t) in zip(iris.data[:, :2], iris.target) if p[0] != point[0] and p[1] != point[1]]\n",
    "        \n",
    "        predicted_iris = knn_classify(k, other_iris, point)\n",
    "        if predicted_iris == target: num_correct += 1\n",
    "    \n",
    "    print(k, \"neighbor[s]:\", num_correct, \"correct out of\", num_total)"
   ]
  },
  {
   "cell_type": "code",
   "execution_count": null,
   "metadata": {
    "collapsed": true
   },
   "outputs": [],
   "source": []
  }
 ],
 "metadata": {
  "kernelspec": {
   "display_name": "Python 3",
   "language": "python",
   "name": "python3"
  },
  "language_info": {
   "codemirror_mode": {
    "name": "ipython",
    "version": 3
   },
   "file_extension": ".py",
   "mimetype": "text/x-python",
   "name": "python",
   "nbconvert_exporter": "python",
   "pygments_lexer": "ipython3",
   "version": "3.6.1"
  }
 },
 "nbformat": 4,
 "nbformat_minor": 2
}
