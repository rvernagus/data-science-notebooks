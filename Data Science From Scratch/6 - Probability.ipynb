{
 "cells": [
  {
   "cell_type": "code",
   "execution_count": 8,
   "metadata": {
    "collapsed": true
   },
   "outputs": [],
   "source": [
    "import numpy as np\n",
    "import matplotlib.pyplot as plt\n",
    "%matplotlib inline"
   ]
  },
  {
   "cell_type": "markdown",
   "metadata": {},
   "source": [
    "Probabilities are a way of quantifying the possibility of the occurrence of a _specific_ event or events given the set of all possible events.\n",
    "\n",
    "Notationally, $P(E)$ means \"the probability of event $E$.\""
   ]
  },
  {
   "cell_type": "markdown",
   "metadata": {},
   "source": [
    "# Dependence and Independence\n",
    "Events $E$ and $F$ are _dependent_ if information about $E$ gives us information about the probability of $F$ occurring (or vice versa). If this is not the case, the variables are _independent_ of each other.\n",
    "\n",
    "For independent events, the probability of both occurring is the product of the probabilities of each occurring:\n",
    "$$P(E, F) = P(E)P(F)$$"
   ]
  },
  {
   "cell_type": "markdown",
   "metadata": {},
   "source": [
    "## Conditional Probability\n",
    "If events are not independent, we can express conditional probability ($E$ is conditional on $F$ or what is the probability that $E$ happens given that $F$ happens):\n",
    "$$P(E\\ |\\ F) = P(E, F)\\ /\\ P(F)$$\n",
    "which (if $E$ and $F$ are dependent) can be written as\n",
    "$$P(E, F) = P(E\\ |\\ F)P(F)$$\n",
    "\n",
    "When $E$ and $F$ are independent:\n",
    "$$P(E\\ |\\ F) = P(E)$$"
   ]
  },
  {
   "cell_type": "markdown",
   "metadata": {},
   "source": [
    "## Bayes's Theorem\n",
    "Conditional probabilities can be \"reversed\":\n",
    "$$P(E \\text{ | } F) = P(E, F) \\text{ / } P(F) = P(F \\text{ | } E)P(E) \\text{ / } P(F)$$\n",
    "If $E$ doesn't happen:\n",
    "$$P(F) = P(F, E) + P(F, \\neg E)$$\n",
    "\n",
    "Leads to Bayes's Theorem:\n",
    "$$P(E\\ |\\ F) = P(F\\ |\\ E)P(E)\\ /\\ [P(F\\ |\\ E)P(E) + P(F\\ |\\ \\neg E)P(\\ \\neg E)]$$"
   ]
  },
  {
   "cell_type": "markdown",
   "metadata": {},
   "source": [
    "## Random Variables\n",
    "A _random variable_ is one whose possible values can be placed on an associated probability distribution. The distribution refines the probabilities that the variable will take on each of the possible values."
   ]
  },
  {
   "cell_type": "markdown",
   "metadata": {},
   "source": [
    "## Continuous Distributions\n",
    "Coin flips represent a _discrete distribution_, i.e., one that takes on mutually exclusive values with no \"in-betweens.\" A _continuous distribution_ is one that allows for a full range of values along a continuum such as height or weight.\n",
    "\n",
    "Continuous distributions use a _probability density function (pdf)_ to define probability of a value within a given range."
   ]
  },
  {
   "cell_type": "markdown",
   "metadata": {},
   "source": [
    "The pdf for the uniform distribution is:"
   ]
  },
  {
   "cell_type": "code",
   "execution_count": 1,
   "metadata": {
    "collapsed": true
   },
   "outputs": [],
   "source": [
    "def uniform_pdf(x):\n",
    "    return 1 if x >= 0 and x < 1 else 0"
   ]
  },
  {
   "cell_type": "code",
   "execution_count": 22,
   "metadata": {},
   "outputs": [
    {
     "data": {
      "image/png": "[encoded data removed]",
      "text/plain": [
       "<matplotlib.figure.Figure at 0x85dbc50>"
      ]
     },
     "metadata": {},
     "output_type": "display_data"
    }
   ],
   "source": [
    "xs = np.arange(-1, 2, .001)\n",
    "ys = [uniform_pdf(x) for x in xs]\n",
    "plt.plot(xs, ys);"
   ]
  },
  {
   "cell_type": "code",
   "execution_count": 15,
   "metadata": {},
   "outputs": [
    {
     "data": {
      "text/plain": [
       "0"
      ]
     },
     "execution_count": 15,
     "metadata": {},
     "output_type": "execute_result"
    }
   ],
   "source": [
    "uniform_pdf(-0.01)"
   ]
  },
  {
   "cell_type": "markdown",
   "metadata": {},
   "source": [
    "The _cumulative distribution function (cdf)_ gives the probability that a random variable is less than or equal to a certain value."
   ]
  },
  {
   "cell_type": "code",
   "execution_count": 11,
   "metadata": {
    "collapsed": true
   },
   "outputs": [],
   "source": [
    "def uniform_cdf(x):\n",
    "    \"\"\"Returns probability that a value is <= x\"\"\"\n",
    "    if x < 0: return 0\n",
    "    elif x < 1: return x\n",
    "    else: return 1"
   ]
  },
  {
   "cell_type": "code",
   "execution_count": 21,
   "metadata": {
    "scrolled": true
   },
   "outputs": [
    {
     "data": {
      "image/png": "[encoded data removed]",
      "text/plain": [
       "<matplotlib.figure.Figure at 0x8822780>"
      ]
     },
     "metadata": {},
     "output_type": "display_data"
    }
   ],
   "source": [
    "xs = np.arange(-1, 2, .001)\n",
    "ys = [uniform_cdf(x) for x in xs]\n",
    "plt.step(xs, ys);"
   ]
  }
 ],
 "metadata": {
  "kernelspec": {
   "display_name": "Python 3",
   "language": "python",
   "name": "python3"
  },
  "language_info": {
   "codemirror_mode": {
    "name": "ipython",
    "version": 3
   },
   "file_extension": ".py",
   "mimetype": "text/x-python",
   "name": "python",
   "nbconvert_exporter": "python",
   "pygments_lexer": "ipython3",
   "version": "3.6.1"
  }
 },
 "nbformat": 4,
 "nbformat_minor": 2
}
