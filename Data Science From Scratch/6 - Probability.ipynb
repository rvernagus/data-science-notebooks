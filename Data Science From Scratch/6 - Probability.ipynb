{
 "cells": [
  {
   "cell_type": "markdown",
   "metadata": {},
   "source": [
    "Probabilities are a way of quantifying the possibility of the occurrence of a _specific_ event or events given the set of all possible events.\n",
    "\n",
    "Notationally, $P(E)$ means \"the probability of event $E$.\""
   ]
  },
  {
   "cell_type": "markdown",
   "metadata": {},
   "source": [
    "# Dependence and Independence\n",
    "Events $E$ and $F$ are _dependent_ if information about $E$ gives us information about the probability of $F$ occurring (or vice versa). If this is not the case, the variables are _independent_ of each other.\n",
    "\n",
    "For independent events, the probability of both occurring is the product of the probabilities of each occurring:\n",
    "$$P(E, F) = P(E)P(F)$$"
   ]
  },
  {
   "cell_type": "markdown",
   "metadata": {},
   "source": [
    "## Conditional Probability\n",
    "If events are not independent, we can express conditional probability ($E$ is conditional on $F$ or what is the probability that $E$ happens given that $F$ happens):\n",
    "$$P(E\\ |\\ F) = P(E, F)\\ /\\ P(F)$$\n",
    "which (if $E$ and $F$ are dependent) can be written as\n",
    "$$P(E, F) = P(E\\ |\\ F)P(F)$$\n",
    "\n",
    "When $E$ and $F$ are independent:\n",
    "$$P(E\\ |\\ F) = P(E)$$"
   ]
  },
  {
   "cell_type": "markdown",
   "metadata": {},
   "source": [
    "## Bayes's Theorem\n",
    "Conditional probabilities can be \"reversed\":\n",
    "$$P(E \\text{ | } F) = P(E, F) \\text{ / } P(F) = P(F \\text{ | } E)P(E) \\text{ / } P(F)$$\n",
    "If $E$ doesn't happen:\n",
    "$$P(F) = P(F, E) + P(F, \\neg E)$$\n",
    "\n",
    "Leads to Bayes's Theorem:\n",
    "$$P(E\\ |\\ F) = P(F\\ |\\ E)P(E)\\ /\\ [P(F\\ |\\ E)P(E) + P(F\\ |\\ \\neg E)P(\\ \\neg E)]$$"
   ]
  },
  {
   "cell_type": "markdown",
   "metadata": {},
   "source": [
    "## Random Variables\n",
    "A _random variable_ is one whose possible values can be placed on an associated probability distribution. The distribution refines the probabilities that the variable will take on each of the possible values."
   ]
  },
  {
   "cell_type": "code",
   "execution_count": null,
   "metadata": {
    "collapsed": true
   },
   "outputs": [],
   "source": []
  }
 ],
 "metadata": {
  "kernelspec": {
   "display_name": "Python 3",
   "language": "python",
   "name": "python3"
  },
  "language_info": {
   "codemirror_mode": {
    "name": "ipython",
    "version": 3
   },
   "file_extension": ".py",
   "mimetype": "text/x-python",
   "name": "python",
   "nbconvert_exporter": "python",
   "pygments_lexer": "ipython3",
   "version": "3.6.1"
  }
 },
 "nbformat": 4,
 "nbformat_minor": 2
}
