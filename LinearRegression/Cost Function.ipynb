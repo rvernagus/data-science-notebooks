{
 "cells": [
  {
   "cell_type": "markdown",
   "metadata": {},
   "source": [
    "### Load data from previous notebook"
   ]
  },
  {
   "cell_type": "code",
   "execution_count": 16,
   "metadata": {
    "collapsed": true
   },
   "outputs": [],
   "source": [
    "import pandas as pd\n",
    "import numpy as np\n",
    "import matplotlib.pyplot as plt\n",
    "from sklearn.datasets import fetch_california_housing\n",
    "from sklearn.datasets import load_boston\n",
    "%matplotlib inline\n",
    "\n",
    "\n",
    "def standardize(x):\n",
    "    return (x - np.mean(x)) / np.std(x)\n",
    "\n",
    "\n",
    "boston = load_boston()\n",
    "dataset = pd.DataFrame(boston.data, columns=boston.feature_names)\n",
    "dataset['target'] = boston.target\n",
    "x_range = [dataset['RM'].min(), dataset['RM'].max()]\n",
    "y_range = [dataset['target'].min(), dataset['target'].max()]"
   ]
  },
  {
   "cell_type": "markdown",
   "metadata": {},
   "source": [
    "# Minimizing the Cost Function"
   ]
  },
  {
   "cell_type": "code",
   "execution_count": 9,
   "metadata": {
    "collapsed": true
   },
   "outputs": [],
   "source": [
    "import numpy as np\n",
    "\n",
    "x = np.array([9.5, 8.5, 8.0, 7.0, 6.0])"
   ]
  },
  {
   "cell_type": "code",
   "execution_count": 10,
   "metadata": {
    "collapsed": true
   },
   "outputs": [],
   "source": [
    "def squared_cost(v, e):\n",
    "    return np.sum((v - e)**2)"
   ]
  },
  {
   "cell_type": "code",
   "execution_count": 11,
   "metadata": {},
   "outputs": [
    {
     "name": "stdout",
     "output_type": "stream",
     "text": [
      "Optimization terminated successfully.\n",
      "         Current function value: 7.300000\n",
      "         Iterations: 44\n",
      "         Function evaluations: 88\n"
     ]
    }
   ],
   "source": [
    "from scipy.optimize import fmin\n",
    "\n",
    "xopt = fmin(squared_cost, x0=0, xtol=1e-8, args=(x,))"
   ]
  },
  {
   "cell_type": "code",
   "execution_count": 12,
   "metadata": {},
   "outputs": [
    {
     "name": "stdout",
     "output_type": "stream",
     "text": [
      "The result of optimization is 7.80000000000001\n",
      "The mean is 7.8\n"
     ]
    }
   ],
   "source": [
    "print('The result of optimization is {0}'.format(xopt[0]))\n",
    "print('The mean is {0}'.format(np.mean(x)))"
   ]
  },
  {
   "cell_type": "code",
   "execution_count": 13,
   "metadata": {},
   "outputs": [
    {
     "name": "stdout",
     "output_type": "stream",
     "text": [
      "Optimization terminated successfully.\n",
      "         Current function value: 5.000000\n",
      "         Iterations: 44\n",
      "         Function evaluations: 88\n"
     ]
    }
   ],
   "source": [
    "def absolute_cost(v, e):\n",
    "    return np.sum(np.abs(v - e))\n",
    "\n",
    "xopt = fmin(absolute_cost, x0=0, xtol=1e-8, args=(x,))"
   ]
  },
  {
   "cell_type": "code",
   "execution_count": 14,
   "metadata": {},
   "outputs": [
    {
     "name": "stdout",
     "output_type": "stream",
     "text": [
      "The result of optimization is 8.000000000000009\n",
      "The median is 8.0\n"
     ]
    }
   ],
   "source": [
    "print('The result of optimization is {0}'.format(xopt[0]))\n",
    "print('The median is {0}'.format(np.median(x)))"
   ]
  },
  {
   "cell_type": "markdown",
   "metadata": {},
   "source": [
    "# Pseudoinverse and Other Optimization Methods"
   ]
  },
  {
   "cell_type": "code",
   "execution_count": 18,
   "metadata": {},
   "outputs": [
    {
     "name": "stdout",
     "output_type": "stream",
     "text": [
      "[  9.10210898 -34.67062078]\n",
      "[  9.10210898 -34.67062078]\n",
      "[  9.10210898 -34.67062078]\n"
     ]
    }
   ],
   "source": [
    "observations = len(dataset)\n",
    "X = dataset['RM'].values.reshape((observations, 1)) # X should always be a matrix, never a vector\n",
    "Xb = np.column_stack((X, np.ones(observations))) # We add the bias\n",
    "y = dataset['target'].values # y can be a vector\n",
    "\n",
    "def matrix_inverse(X, y, pseudo=False):\n",
    "    if pseudo:\n",
    "        return np.dot(np.linalg.pinv(np.dot(X.T, X)), np.dot(X.T, y))\n",
    "    else:\n",
    "        return np.dot(np.linalg.inv(np.dot(X.T, X)), np.dot(X.T, y))\n",
    "\n",
    "def normal_equations(X, y):\n",
    "    return np.linalg.solve(np.dot(X.T, X), np.dot(X.T, y))\n",
    "\n",
    "print(matrix_inverse(Xb, y))\n",
    "print(matrix_inverse(Xb, y, pseudo=True))\n",
    "print(normal_equations(Xb, y))"
   ]
  },
  {
   "cell_type": "markdown",
   "metadata": {},
   "source": [
    "# Gradient Descent"
   ]
  },
  {
   "attachments": {
    "image.png": {
     "image/png": "[encoded data removed]"
    }
   },
   "cell_type": "markdown",
   "metadata": {},
   "source": [
    "Initialize vector w with random numbers taken from a standardized normal curve (0 mean and 0 variance).\n",
    "\n",
    "Update the values of w until the cost, J(w), is small enough to let us know we have reached the optimum minimum.\n",
    "\n",
    "Update the coefficients one-by-one by subtracting each from a portion alpha (learning rate) of the partial derivative of the cost function:\n",
    "![image.png](attachment:image.png)"
   ]
  },
  {
   "cell_type": "markdown",
   "metadata": {},
   "source": [
    "### Basic Implementation of Gradient Descent"
   ]
  },
  {
   "cell_type": "code",
   "execution_count": 20,
   "metadata": {},
   "outputs": [],
   "source": [
    "observations = len(dataset)\n",
    "X = dataset['RM'].values.reshape((observations, 1)) # X should always be a matrix\n",
    "X = np.column_stack((X, np.ones(observations))) # Add the bias\n",
    "y = dataset['target'].values # y is a vector\n",
    "\n",
    "import random\n",
    "\n",
    "def random_w(p):\n",
    "    return np.array([np.random.normal() for j in range(p)])\n",
    "\n",
    "def hypothesis(X, w):\n",
    "    return np.dot(X, w)\n",
    "\n",
    "def loss(X, w, y):\n",
    "    return hypothesis(X, w) - y\n",
    "\n",
    "def squared_loss(X, w, y):\n",
    "    return loss(X, w, y)**2\n",
    "\n",
    "def gradient(X, w, y):\n",
    "    gradients = list()\n",
    "    n = float(len(y))\n",
    "    for j in range(len(w)):\n",
    "        gradients.append(np.sum(loss(X, w, y) * X[:, j]) / n)\n",
    "    return gradients\n",
    "\n",
    "def update(X, w, y, alpha=0.01):\n",
    "    return [t - alpha * g for t, g in zip(w, gradient(X, w, y))]\n",
    "\n",
    "def optimize(X, y, alpha=0.01, eta=10**-12, iterations=1000):\n",
    "    w = random_w(X.shape[1])\n",
    "    path = list()\n",
    "    for k in range(iterations):\n",
    "        SSL = np.sum(squared_loss(X, w, y))\n",
    "        new_w = update(X, w, y, alpha=alpha)\n",
    "        new_SSL = np.sum(squared_loss(X, new_w, y))\n",
    "        w = new_w\n",
    "        if k >= 5 and (new_SSL - SSL <= eta and new_SSL - SSL >= -eta):\n",
    "            path.append(new_SSL)\n",
    "            return w, path\n",
    "        if k % (iterations / 20) == 0:\n",
    "            path.append(new_SSL)\n",
    "    return w, path"
   ]
  },
  {
   "cell_type": "code",
   "execution_count": 21,
   "metadata": {},
   "outputs": [
    {
     "name": "stdout",
     "output_type": "stream",
     "text": [
      "These are our final coefficients: [9.1021032364625398, -34.670584233610896]\n",
      "Obtained walking on this path of squared loss [361123.23183664575, 23868.501317764763, 22488.529217177176, 22162.636426081921, 22085.673919924993, 22067.498533675891, 22063.206253164251, 22062.192592615967, 22061.953207584083, 22061.896674661308, 22061.883323904447, 22061.880171003446, 22061.879426417592, 22061.87925057696, 22061.879209050621, 22061.879199243798, 22061.879196927832, 22061.879196380894, 22061.879196251735, 22061.879196221227, 22061.879196220129]\n"
     ]
    }
   ],
   "source": [
    "alpha = 0.048\n",
    "w, path = optimize(X, y, alpha, eta=10**-12, iterations=25000)\n",
    "print('These are our final coefficients: {0}'.format(w))\n",
    "print('Obtained walking on this path of squared loss {0}'.format(path))"
   ]
  },
  {
   "cell_type": "code",
   "execution_count": null,
   "metadata": {
    "collapsed": true
   },
   "outputs": [],
   "source": []
  }
 ],
 "metadata": {
  "kernelspec": {
   "display_name": "Python 3",
   "language": "python",
   "name": "python3"
  },
  "language_info": {
   "codemirror_mode": {
    "name": "ipython",
    "version": 3
   },
   "file_extension": ".py",
   "mimetype": "text/x-python",
   "name": "python",
   "nbconvert_exporter": "python",
   "pygments_lexer": "ipython3",
   "version": "3.6.1"
  }
 },
 "nbformat": 4,
 "nbformat_minor": 2
}
